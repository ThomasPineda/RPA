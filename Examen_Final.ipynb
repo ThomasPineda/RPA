{
  "nbformat": 4,
  "nbformat_minor": 0,
  "metadata": {
    "colab": {
      "private_outputs": true,
      "provenance": [],
      "authorship_tag": "ABX9TyNBv3ZLsLtJshGFfTnvItbn",
      "include_colab_link": true
    },
    "kernelspec": {
      "name": "python3",
      "display_name": "Python 3"
    },
    "language_info": {
      "name": "python"
    }
  },
  "cells": [
    {
      "cell_type": "markdown",
      "metadata": {
        "id": "view-in-github",
        "colab_type": "text"
      },
      "source": [
        "<a href=\"https://colab.research.google.com/github/ThomasPineda/RPA/blob/main/Examen_Final.ipynb\" target=\"_parent\"><img src=\"https://colab.research.google.com/assets/colab-badge.svg\" alt=\"Open In Colab\"/></a>"
      ]
    },
    {
      "cell_type": "code",
      "execution_count": null,
      "metadata": {
        "id": "2hF0yvqD9hM2"
      },
      "outputs": [],
      "source": [
        "#Importar librerias\n",
        "from dataclasses import dataclass\n",
        "from unittest import result\n",
        "import requests\n",
        "import bs4\n",
        "import pandas as pd\n",
        "import matplotlib.pyplot as plt\n",
        "from bs4 import BeautifulSoup"
      ]
    },
    {
      "cell_type": "code",
      "source": [
        "url= 'https://www.goal.com/es-co/noticias/tabla-de-goleadores-de-la-liga-betplay-2022-i/bltd35089175aaf4690'\n",
        "result= requests.get(url)\n",
        "soup = BeautifulSoup(result.text,'lxml')\n",
        "data = []\n",
        "posicion = []\n",
        "nombre = []\n",
        "partido = []\n",
        "equipo = []\n",
        "goles = []\n",
        "\n",
        "\n",
        "goleador = soup.find_all('div', class_= 'table-container-scroll')\n",
        "#goleador = goleador.find('div', class_= 'Opta-PlayerName')\n",
        "for i in goleador:\n",
        "    span= i.find_all('td')\n",
        "    data.append(span)\n",
        "\n",
        "for i in range(0,25,5):\n",
        "  posicion.append(data[0][i].get_text())\n",
        "  nombre.append(data[0][i+1].get_text())\n",
        "  partido.append(data[0][i+2].get_text())\n",
        "  equipo.append(data[0][i+3].get_text())\n",
        "  goles.append(data[0][i+4].get_text())\n",
        "\n",
        "\n",
        "\n",
        "\n",
        "df=pd.DataFrame({\"Posicion\":posicion,\"Jugador\":nombre,\"Partidos jugados\":partido,\"Equipo\":equipo,\"Goles\":goles})\n",
        "df\n",
        "\n",
        "\n"
      ],
      "metadata": {
        "id": "PIJBw5B79n-d"
      },
      "execution_count": null,
      "outputs": []
    }
  ]
}